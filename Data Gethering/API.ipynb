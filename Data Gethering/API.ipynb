{
 "metadata": {
  "language_info": {
   "codemirror_mode": {
    "name": "ipython",
    "version": 3
   },
   "file_extension": ".py",
   "mimetype": "text/x-python",
   "name": "python",
   "nbconvert_exporter": "python",
   "pygments_lexer": "ipython3",
   "version": "3.8.2-final"
  },
  "orig_nbformat": 2,
  "kernelspec": {
   "name": "python_defaultSpec_1600194105688",
   "display_name": "Python 3.8.2 32-bit"
  }
 },
 "nbformat": 4,
 "nbformat_minor": 2,
 "cells": [
  {
   "source": [
    "Import "
   ],
   "cell_type": "markdown",
   "metadata": {}
  },
  {
   "cell_type": "code",
   "execution_count": 43,
   "metadata": {},
   "outputs": [],
   "source": [
    "import requests\n",
    "import pprint\n",
    "from pandas.io.json import json_normalize\n",
    "import json"
   ]
  },
  {
   "source": [
    "Get API from Quran.com by requests lib"
   ],
   "cell_type": "markdown",
   "metadata": {}
  },
  {
   "cell_type": "code",
   "execution_count": 44,
   "metadata": {},
   "outputs": [],
   "source": [
    "r = requests.get('http://api.quran.com:3000/api/v3/juzs')"
   ]
  },
  {
   "source": [
    "Check status"
   ],
   "cell_type": "markdown",
   "metadata": {}
  },
  {
   "cell_type": "code",
   "execution_count": 45,
   "metadata": {
    "tags": []
   },
   "outputs": [
    {
     "output_type": "execute_result",
     "data": {
      "text/plain": "<Response [200]>"
     },
     "metadata": {},
     "execution_count": 45
    }
   ],
   "source": [
    "r"
   ]
  },
  {
   "source": [
    "Print out json format"
   ],
   "cell_type": "markdown",
   "metadata": {}
  },
  {
   "cell_type": "code",
   "execution_count": 46,
   "metadata": {},
   "outputs": [],
   "source": [
    "r = r.json()"
   ]
  },
  {
   "cell_type": "code",
   "execution_count": 47,
   "metadata": {},
   "outputs": [
    {
     "output_type": "execute_result",
     "data": {
      "text/plain": "{'juzs': [{'id': 1,\n   'juz_number': 1,\n   'verse_mapping': {'1': '1-7', '2': '1-141'}},\n  {'id': 2, 'juz_number': 2, 'verse_mapping': {'2': '142-252'}},\n  {'id': 3, 'juz_number': 3, 'verse_mapping': {'2': '253-286', '3': '1-92'}},\n  {'id': 4, 'juz_number': 4, 'verse_mapping': {'3': '93-200', '4': '1-23'}},\n  {'id': 5, 'juz_number': 5, 'verse_mapping': {'4': '24-147'}},\n  {'id': 6, 'juz_number': 6, 'verse_mapping': {'4': '148-176', '5': '1-81'}},\n  {'id': 7, 'juz_number': 7, 'verse_mapping': {'5': '82-120', '6': '1-110'}},\n  {'id': 8, 'juz_number': 8, 'verse_mapping': {'6': '111-165', '7': '1-87'}},\n  {'id': 9, 'juz_number': 9, 'verse_mapping': {'7': '88-206', '8': '1-40'}},\n  {'id': 10, 'juz_number': 10, 'verse_mapping': {'8': '41-75', '9': '1-92'}},\n  {'id': 11,\n   'juz_number': 11,\n   'verse_mapping': {'9': '93-129', '10': '1-109', '11': '1-5'}},\n  {'id': 12, 'juz_number': 12, 'verse_mapping': {'11': '6-123', '12': '1-52'}},\n  {'id': 13,\n   'juz_number': 13,\n   'verse_mapping': {'12': '53-111', '13': '1-43', '14': '1-52'}},\n  {'id': 14, 'juz_number': 14, 'verse_mapping': {'15': '1-99', '16': '1-128'}},\n  {'id': 15, 'juz_number': 15, 'verse_mapping': {'17': '1-111', '18': '1-74'}},\n  {'id': 16,\n   'juz_number': 16,\n   'verse_mapping': {'18': '75-110', '19': '1-98', '20': '1-135'}},\n  {'id': 17, 'juz_number': 17, 'verse_mapping': {'21': '1-112', '22': '1-78'}},\n  {'id': 18,\n   'juz_number': 18,\n   'verse_mapping': {'23': '1-118', '24': '1-64', '25': '1-20'}},\n  {'id': 19,\n   'juz_number': 19,\n   'verse_mapping': {'25': '21-77', '26': '1-227', '27': '1-55'}},\n  {'id': 20,\n   'juz_number': 20,\n   'verse_mapping': {'27': '56-93', '28': '1-88', '29': '1-45'}},\n  {'id': 21,\n   'juz_number': 21,\n   'verse_mapping': {'29': '46-69',\n    '30': '1-60',\n    '31': '1-34',\n    '32': '1-30',\n    '33': '1-30'}},\n  {'id': 22,\n   'juz_number': 22,\n   'verse_mapping': {'33': '31-73', '34': '1-54', '35': '1-45', '36': '1-27'}},\n  {'id': 23,\n   'juz_number': 23,\n   'verse_mapping': {'36': '28-83',\n    '37': '1-182',\n    '38': '1-88',\n    '39': '1-31'}},\n  {'id': 24,\n   'juz_number': 24,\n   'verse_mapping': {'39': '32-75', '40': '1-85', '41': '1-46'}},\n  {'id': 25,\n   'juz_number': 25,\n   'verse_mapping': {'41': '47-54',\n    '42': '1-53',\n    '43': '1-89',\n    '44': '1-59',\n    '45': '1-37'}},\n  {'id': 26,\n   'juz_number': 26,\n   'verse_mapping': {'46': '1-35',\n    '47': '1-38',\n    '48': '1-29',\n    '49': '1-18',\n    '50': '1-45',\n    '51': '1-30'}},\n  {'id': 27,\n   'juz_number': 27,\n   'verse_mapping': {'51': '31-60',\n    '52': '1-49',\n    '53': '1-62',\n    '54': '1-55',\n    '55': '1-78',\n    '56': '1-96',\n    '57': '1-29'}},\n  {'id': 28,\n   'juz_number': 28,\n   'verse_mapping': {'58': '1-22',\n    '59': '1-24',\n    '60': '1-13',\n    '61': '1-14',\n    '62': '1-11',\n    '63': '1-11',\n    '64': '1-18',\n    '65': '1-12',\n    '66': '1-12'}},\n  {'id': 29,\n   'juz_number': 29,\n   'verse_mapping': {'67': '1-30',\n    '68': '1-52',\n    '69': '1-52',\n    '70': '1-44',\n    '71': '1-28',\n    '72': '1-28',\n    '73': '1-20',\n    '74': '1-56',\n    '75': '1-40',\n    '76': '1-31',\n    '77': '1-50'}},\n  {'id': 30,\n   'juz_number': 30,\n   'verse_mapping': {'78': '1-40',\n    '79': '1-46',\n    '80': '1-42',\n    '81': '1-29',\n    '82': '1-19',\n    '83': '1-36',\n    '84': '1-25',\n    '85': '1-22',\n    '86': '1-17',\n    '87': '1-19',\n    '88': '1-26',\n    '89': '1-30',\n    '90': '1-20',\n    '91': '1-15',\n    '92': '1-21',\n    '93': '1-11',\n    '94': '1-8',\n    '95': '1-8',\n    '96': '1-19',\n    '97': '1-5',\n    '98': '1-8',\n    '99': '1-8',\n    '100': '1-11',\n    '101': '1-11',\n    '102': '1-8',\n    '103': '1-3',\n    '104': '1-9',\n    '105': '1-5',\n    '106': '1-4',\n    '107': '1-7',\n    '108': '1-3',\n    '109': '1-6',\n    '110': '1-3',\n    '111': '1-5',\n    '112': '1-4',\n    '113': '1-5',\n    '114': '1-6'}}]}"
     },
     "metadata": {},
     "execution_count": 47
    }
   ],
   "source": [
    "r"
   ]
  },
  {
   "cell_type": "code",
   "execution_count": 48,
   "metadata": {},
   "outputs": [],
   "source": [
    "df = pd.io.json.json_normalize(r)"
   ]
  }
 ]
}