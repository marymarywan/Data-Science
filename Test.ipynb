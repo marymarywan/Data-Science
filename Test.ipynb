{
 "metadata": {
  "language_info": {
   "codemirror_mode": {
    "name": "ipython",
    "version": 3
   },
   "file_extension": ".py",
   "mimetype": "text/x-python",
   "name": "python",
   "nbconvert_exporter": "python",
   "pygments_lexer": "ipython3",
   "version": "3.7.6-final"
  },
  "orig_nbformat": 2,
  "kernelspec": {
   "name": "Python 3.7.6 64-bit ('base': conda)",
   "display_name": "Python 3.7.6 64-bit ('base': conda)",
   "metadata": {
    "interpreter": {
     "hash": "2a2f3a0f78b2ef6167917001a86b9a51d1b91b129ef2a497c77fcb6e5dcb80d5"
    }
   }
  }
 },
 "nbformat": 4,
 "nbformat_minor": 2,
 "cells": [
  {
   "source": [
    "## Import"
   ],
   "cell_type": "markdown",
   "metadata": {}
  },
  {
   "cell_type": "code",
   "execution_count": 2,
   "metadata": {},
   "outputs": [],
   "source": [
    "import pandas as pd\n",
    "import numpy as np\n",
    "import json"
   ]
  },
  {
   "source": [
    "## Datas Acquisition"
   ],
   "cell_type": "markdown",
   "metadata": {}
  },
  {
   "cell_type": "code",
   "execution_count": 3,
   "metadata": {},
   "outputs": [],
   "source": [
    "list_of_name = [\"Marwan\", \"Afnan\", \"Mukhlis\", \"Anas\", \"Khalid\", \"Iskandar\", \"Affan\", \"Ali\"]"
   ]
  },
  {
   "cell_type": "code",
   "execution_count": 4,
   "metadata": {},
   "outputs": [],
   "source": [
    "list_of_age = [21, 20, 21, 22, 20, 23, 22, 21]"
   ]
  },
  {
   "cell_type": "code",
   "execution_count": 5,
   "metadata": {},
   "outputs": [],
   "source": [
    "list_of_job = ['it', 'rnd', 'it', 'eduction', 'libral art', 'islamic', 'it', 'rnd']"
   ]
  },
  {
   "cell_type": "code",
   "execution_count": 6,
   "metadata": {},
   "outputs": [],
   "source": [
    "in_list = list(zip(list_of_name, list_of_age, list_of_job))"
   ]
  },
  {
   "cell_type": "code",
   "execution_count": 7,
   "metadata": {},
   "outputs": [],
   "source": [
    "df = pd.DataFrame(in_list,  columns=['Name', 'Age', 'Job'])"
   ]
  },
  {
   "cell_type": "code",
   "execution_count": 8,
   "metadata": {},
   "outputs": [],
   "source": [
    "df.set_index(['Name'], inplace=True)"
   ]
  },
  {
   "source": [
    "## Data Prep"
   ],
   "cell_type": "markdown",
   "metadata": {}
  },
  {
   "cell_type": "code",
   "execution_count": 9,
   "metadata": {},
   "outputs": [
    {
     "output_type": "execute_result",
     "data": {
      "text/plain": [
       "         Age         Job\n",
       "Name                    \n",
       "Marwan    21          it\n",
       "Afnan     20         rnd\n",
       "Mukhlis   21          it\n",
       "Anas      22    eduction\n",
       "Khalid    20  libral art"
      ],
      "text/html": "<div>\n<style scoped>\n    .dataframe tbody tr th:only-of-type {\n        vertical-align: middle;\n    }\n\n    .dataframe tbody tr th {\n        vertical-align: top;\n    }\n\n    .dataframe thead th {\n        text-align: right;\n    }\n</style>\n<table border=\"1\" class=\"dataframe\">\n  <thead>\n    <tr style=\"text-align: right;\">\n      <th></th>\n      <th>Age</th>\n      <th>Job</th>\n    </tr>\n    <tr>\n      <th>Name</th>\n      <th></th>\n      <th></th>\n    </tr>\n  </thead>\n  <tbody>\n    <tr>\n      <th>Marwan</th>\n      <td>21</td>\n      <td>it</td>\n    </tr>\n    <tr>\n      <th>Afnan</th>\n      <td>20</td>\n      <td>rnd</td>\n    </tr>\n    <tr>\n      <th>Mukhlis</th>\n      <td>21</td>\n      <td>it</td>\n    </tr>\n    <tr>\n      <th>Anas</th>\n      <td>22</td>\n      <td>eduction</td>\n    </tr>\n    <tr>\n      <th>Khalid</th>\n      <td>20</td>\n      <td>libral art</td>\n    </tr>\n  </tbody>\n</table>\n</div>"
     },
     "metadata": {},
     "execution_count": 9
    }
   ],
   "source": [
    "df.head()"
   ]
  },
  {
   "cell_type": "code",
   "execution_count": 10,
   "metadata": {},
   "outputs": [],
   "source": [
    "s = df.loc['Marwan']"
   ]
  },
  {
   "cell_type": "code",
   "execution_count": 11,
   "metadata": {},
   "outputs": [
    {
     "output_type": "execute_result",
     "data": {
      "text/plain": [
       "Age    21\n",
       "Job    it\n",
       "Name: Marwan, dtype: object"
      ]
     },
     "metadata": {},
     "execution_count": 11
    }
   ],
   "source": [
    "pd.Series(s)"
   ]
  },
  {
   "cell_type": "code",
   "execution_count": 12,
   "metadata": {},
   "outputs": [],
   "source": [
    "im = 'Test2.csv'"
   ]
  },
  {
   "cell_type": "code",
   "execution_count": 13,
   "metadata": {},
   "outputs": [],
   "source": [
    "df1 = pd.read_csv(im, dtype={'Age':int})"
   ]
  },
  {
   "cell_type": "code",
   "execution_count": 14,
   "metadata": {},
   "outputs": [
    {
     "output_type": "execute_result",
     "data": {
      "text/plain": [
       "       Name  Age         Job\n",
       "0    Marwan   21          it\n",
       "1     Afnan   20         rnd\n",
       "2   Mukhlis   21          it\n",
       "3      Anas   22    eduction\n",
       "4    Khalid   20  libral art\n",
       "5  Iskandar   23     islamic\n",
       "6     Affan   22          it\n",
       "7       Ali   21         rnd"
      ],
      "text/html": "<div>\n<style scoped>\n    .dataframe tbody tr th:only-of-type {\n        vertical-align: middle;\n    }\n\n    .dataframe tbody tr th {\n        vertical-align: top;\n    }\n\n    .dataframe thead th {\n        text-align: right;\n    }\n</style>\n<table border=\"1\" class=\"dataframe\">\n  <thead>\n    <tr style=\"text-align: right;\">\n      <th></th>\n      <th>Name</th>\n      <th>Age</th>\n      <th>Job</th>\n    </tr>\n  </thead>\n  <tbody>\n    <tr>\n      <th>0</th>\n      <td>Marwan</td>\n      <td>21</td>\n      <td>it</td>\n    </tr>\n    <tr>\n      <th>1</th>\n      <td>Afnan</td>\n      <td>20</td>\n      <td>rnd</td>\n    </tr>\n    <tr>\n      <th>2</th>\n      <td>Mukhlis</td>\n      <td>21</td>\n      <td>it</td>\n    </tr>\n    <tr>\n      <th>3</th>\n      <td>Anas</td>\n      <td>22</td>\n      <td>eduction</td>\n    </tr>\n    <tr>\n      <th>4</th>\n      <td>Khalid</td>\n      <td>20</td>\n      <td>libral art</td>\n    </tr>\n    <tr>\n      <th>5</th>\n      <td>Iskandar</td>\n      <td>23</td>\n      <td>islamic</td>\n    </tr>\n    <tr>\n      <th>6</th>\n      <td>Affan</td>\n      <td>22</td>\n      <td>it</td>\n    </tr>\n    <tr>\n      <th>7</th>\n      <td>Ali</td>\n      <td>21</td>\n      <td>rnd</td>\n    </tr>\n  </tbody>\n</table>\n</div>"
     },
     "metadata": {},
     "execution_count": 14
    }
   ],
   "source": [
    "df1.sort_index()"
   ]
  },
  {
   "cell_type": "code",
   "execution_count": 15,
   "metadata": {},
   "outputs": [
    {
     "output_type": "execute_result",
     "data": {
      "text/plain": [
       "Name    object\n",
       "Age      int32\n",
       "Job     object\n",
       "dtype: object"
      ]
     },
     "metadata": {},
     "execution_count": 15
    }
   ],
   "source": [
    "df1.dtypes"
   ]
  },
  {
   "cell_type": "code",
   "execution_count": 16,
   "metadata": {},
   "outputs": [
    {
     "output_type": "execute_result",
     "data": {
      "text/plain": [
       "       Name  Age         Job\n",
       "5  Iskandar   23     islamic\n",
       "2   Mukhlis   21          it\n",
       "4    Khalid   20  libral art\n",
       "1     Afnan   20         rnd\n",
       "7       Ali   21         rnd"
      ],
      "text/html": "<div>\n<style scoped>\n    .dataframe tbody tr th:only-of-type {\n        vertical-align: middle;\n    }\n\n    .dataframe tbody tr th {\n        vertical-align: top;\n    }\n\n    .dataframe thead th {\n        text-align: right;\n    }\n</style>\n<table border=\"1\" class=\"dataframe\">\n  <thead>\n    <tr style=\"text-align: right;\">\n      <th></th>\n      <th>Name</th>\n      <th>Age</th>\n      <th>Job</th>\n    </tr>\n  </thead>\n  <tbody>\n    <tr>\n      <th>5</th>\n      <td>Iskandar</td>\n      <td>23</td>\n      <td>islamic</td>\n    </tr>\n    <tr>\n      <th>2</th>\n      <td>Mukhlis</td>\n      <td>21</td>\n      <td>it</td>\n    </tr>\n    <tr>\n      <th>4</th>\n      <td>Khalid</td>\n      <td>20</td>\n      <td>libral art</td>\n    </tr>\n    <tr>\n      <th>1</th>\n      <td>Afnan</td>\n      <td>20</td>\n      <td>rnd</td>\n    </tr>\n    <tr>\n      <th>7</th>\n      <td>Ali</td>\n      <td>21</td>\n      <td>rnd</td>\n    </tr>\n  </tbody>\n</table>\n</div>"
     },
     "metadata": {},
     "execution_count": 16
    }
   ],
   "source": [
    "df1.sample(5)"
   ]
  },
  {
   "cell_type": "code",
   "execution_count": 17,
   "metadata": {},
   "outputs": [
    {
     "output_type": "execute_result",
     "data": {
      "text/plain": [
       "             Age\n",
       "count   8.000000\n",
       "mean   21.250000\n",
       "std     1.035098\n",
       "min    20.000000\n",
       "25%    20.750000\n",
       "50%    21.000000\n",
       "75%    22.000000\n",
       "max    23.000000"
      ],
      "text/html": "<div>\n<style scoped>\n    .dataframe tbody tr th:only-of-type {\n        vertical-align: middle;\n    }\n\n    .dataframe tbody tr th {\n        vertical-align: top;\n    }\n\n    .dataframe thead th {\n        text-align: right;\n    }\n</style>\n<table border=\"1\" class=\"dataframe\">\n  <thead>\n    <tr style=\"text-align: right;\">\n      <th></th>\n      <th>Age</th>\n    </tr>\n  </thead>\n  <tbody>\n    <tr>\n      <th>count</th>\n      <td>8.000000</td>\n    </tr>\n    <tr>\n      <th>mean</th>\n      <td>21.250000</td>\n    </tr>\n    <tr>\n      <th>std</th>\n      <td>1.035098</td>\n    </tr>\n    <tr>\n      <th>min</th>\n      <td>20.000000</td>\n    </tr>\n    <tr>\n      <th>25%</th>\n      <td>20.750000</td>\n    </tr>\n    <tr>\n      <th>50%</th>\n      <td>21.000000</td>\n    </tr>\n    <tr>\n      <th>75%</th>\n      <td>22.000000</td>\n    </tr>\n    <tr>\n      <th>max</th>\n      <td>23.000000</td>\n    </tr>\n  </tbody>\n</table>\n</div>"
     },
     "metadata": {},
     "execution_count": 17
    }
   ],
   "source": [
    "df1.describe()"
   ]
  },
  {
   "cell_type": "code",
   "execution_count": 18,
   "metadata": {},
   "outputs": [],
   "source": [
    "df1.Name = df1.Name.astype('category')"
   ]
  },
  {
   "cell_type": "code",
   "execution_count": 19,
   "metadata": {},
   "outputs": [
    {
     "output_type": "execute_result",
     "data": {
      "text/plain": [
       "Name    category\n",
       "Age        int32\n",
       "Job       object\n",
       "dtype: object"
      ]
     },
     "metadata": {},
     "execution_count": 19
    }
   ],
   "source": [
    "df1.dtypes"
   ]
  },
  {
   "cell_type": "code",
   "execution_count": 20,
   "metadata": {},
   "outputs": [
    {
     "output_type": "execute_result",
     "data": {
      "text/plain": [
       "0      Marwan\n",
       "1       Afnan\n",
       "2     Mukhlis\n",
       "3        Anas\n",
       "4      Khalid\n",
       "5    Iskandar\n",
       "6       Affan\n",
       "7         Ali\n",
       "Name: Name, dtype: category\n",
       "Categories (8, object): [Affan, Afnan, Ali, Anas, Iskandar, Khalid, Marwan, Mukhlis]"
      ]
     },
     "metadata": {},
     "execution_count": 20
    }
   ],
   "source": [
    "Names = df1.Name\n",
    "s = pd.Series(Names)\n",
    "s"
   ]
  },
  {
   "cell_type": "code",
   "execution_count": 21,
   "metadata": {},
   "outputs": [
    {
     "output_type": "execute_result",
     "data": {
      "text/plain": [
       "1      Afnan\n",
       "2    Mukhlis\n",
       "3       Anas\n",
       "Name: Name, dtype: category\n",
       "Categories (8, object): [Affan, Afnan, Ali, Anas, Iskandar, Khalid, Marwan, Mukhlis]"
      ]
     },
     "metadata": {},
     "execution_count": 21
    }
   ],
   "source": [
    "df1.Name[1:4]"
   ]
  },
  {
   "cell_type": "code",
   "execution_count": 22,
   "metadata": {},
   "outputs": [
    {
     "output_type": "execute_result",
     "data": {
      "text/plain": [
       "      Name  Age\n",
       "1    Afnan   20\n",
       "2  Mukhlis   21\n",
       "3     Anas   22\n",
       "4   Khalid   20"
      ],
      "text/html": "<div>\n<style scoped>\n    .dataframe tbody tr th:only-of-type {\n        vertical-align: middle;\n    }\n\n    .dataframe tbody tr th {\n        vertical-align: top;\n    }\n\n    .dataframe thead th {\n        text-align: right;\n    }\n</style>\n<table border=\"1\" class=\"dataframe\">\n  <thead>\n    <tr style=\"text-align: right;\">\n      <th></th>\n      <th>Name</th>\n      <th>Age</th>\n    </tr>\n  </thead>\n  <tbody>\n    <tr>\n      <th>1</th>\n      <td>Afnan</td>\n      <td>20</td>\n    </tr>\n    <tr>\n      <th>2</th>\n      <td>Mukhlis</td>\n      <td>21</td>\n    </tr>\n    <tr>\n      <th>3</th>\n      <td>Anas</td>\n      <td>22</td>\n    </tr>\n    <tr>\n      <th>4</th>\n      <td>Khalid</td>\n      <td>20</td>\n    </tr>\n  </tbody>\n</table>\n</div>"
     },
     "metadata": {},
     "execution_count": 22
    }
   ],
   "source": [
    "df1[['Name','Age']][1:5]"
   ]
  },
  {
   "cell_type": "code",
   "execution_count": 23,
   "metadata": {},
   "outputs": [
    {
     "output_type": "execute_result",
     "data": {
      "text/plain": [
       "1    20\n",
       "2    21\n",
       "3    22\n",
       "4    20\n",
       "5    23\n",
       "Name: Age, dtype: int32"
      ]
     },
     "metadata": {},
     "execution_count": 23
    }
   ],
   "source": [
    "df1[1:6].Age"
   ]
  },
  {
   "cell_type": "code",
   "execution_count": 24,
   "metadata": {},
   "outputs": [
    {
     "output_type": "execute_result",
     "data": {
      "text/plain": [
       "       Name  Age      Job\n",
       "0    Marwan   21       it\n",
       "1     Afnan   20      rnd\n",
       "5  Iskandar   23  islamic"
      ],
      "text/html": "<div>\n<style scoped>\n    .dataframe tbody tr th:only-of-type {\n        vertical-align: middle;\n    }\n\n    .dataframe tbody tr th {\n        vertical-align: top;\n    }\n\n    .dataframe thead th {\n        text-align: right;\n    }\n</style>\n<table border=\"1\" class=\"dataframe\">\n  <thead>\n    <tr style=\"text-align: right;\">\n      <th></th>\n      <th>Name</th>\n      <th>Age</th>\n      <th>Job</th>\n    </tr>\n  </thead>\n  <tbody>\n    <tr>\n      <th>0</th>\n      <td>Marwan</td>\n      <td>21</td>\n      <td>it</td>\n    </tr>\n    <tr>\n      <th>1</th>\n      <td>Afnan</td>\n      <td>20</td>\n      <td>rnd</td>\n    </tr>\n    <tr>\n      <th>5</th>\n      <td>Iskandar</td>\n      <td>23</td>\n      <td>islamic</td>\n    </tr>\n  </tbody>\n</table>\n</div>"
     },
     "metadata": {},
     "execution_count": 24
    }
   ],
   "source": [
    "rows = [0, 1, 5]\n",
    "df1.iloc[rows]"
   ]
  },
  {
   "source": [
    "## Data Searching"
   ],
   "cell_type": "markdown",
   "metadata": {}
  },
  {
   "source": [
    "#### Only searching for the starting words "
   ],
   "cell_type": "markdown",
   "metadata": {}
  },
  {
   "cell_type": "code",
   "execution_count": 25,
   "metadata": {},
   "outputs": [
    {
     "output_type": "execute_result",
     "data": {
      "text/plain": [
       "    Name  Age  Job\n",
       "1  Afnan   20  rnd\n",
       "6  Affan   22   it"
      ],
      "text/html": "<div>\n<style scoped>\n    .dataframe tbody tr th:only-of-type {\n        vertical-align: middle;\n    }\n\n    .dataframe tbody tr th {\n        vertical-align: top;\n    }\n\n    .dataframe thead th {\n        text-align: right;\n    }\n</style>\n<table border=\"1\" class=\"dataframe\">\n  <thead>\n    <tr style=\"text-align: right;\">\n      <th></th>\n      <th>Name</th>\n      <th>Age</th>\n      <th>Job</th>\n    </tr>\n  </thead>\n  <tbody>\n    <tr>\n      <th>1</th>\n      <td>Afnan</td>\n      <td>20</td>\n      <td>rnd</td>\n    </tr>\n    <tr>\n      <th>6</th>\n      <td>Affan</td>\n      <td>22</td>\n      <td>it</td>\n    </tr>\n  </tbody>\n</table>\n</div>"
     },
     "metadata": {},
     "execution_count": 25
    }
   ],
   "source": [
    "df1[df1.Name.str.match('Af')]"
   ]
  },
  {
   "cell_type": "code",
   "execution_count": 26,
   "metadata": {},
   "outputs": [
    {
     "output_type": "execute_result",
     "data": {
      "text/plain": [
       "    Name  Age  Job\n",
       "1  Afnan   20  rnd\n",
       "6  Affan   22   it"
      ],
      "text/html": "<div>\n<style scoped>\n    .dataframe tbody tr th:only-of-type {\n        vertical-align: middle;\n    }\n\n    .dataframe tbody tr th {\n        vertical-align: top;\n    }\n\n    .dataframe thead th {\n        text-align: right;\n    }\n</style>\n<table border=\"1\" class=\"dataframe\">\n  <thead>\n    <tr style=\"text-align: right;\">\n      <th></th>\n      <th>Name</th>\n      <th>Age</th>\n      <th>Job</th>\n    </tr>\n  </thead>\n  <tbody>\n    <tr>\n      <th>1</th>\n      <td>Afnan</td>\n      <td>20</td>\n      <td>rnd</td>\n    </tr>\n    <tr>\n      <th>6</th>\n      <td>Affan</td>\n      <td>22</td>\n      <td>it</td>\n    </tr>\n  </tbody>\n</table>\n</div>"
     },
     "metadata": {},
     "execution_count": 26
    }
   ],
   "source": [
    "df1[df1['Name'].str.match('Af')]"
   ]
  },
  {
   "source": [
    "#### Any word can be searched "
   ],
   "cell_type": "markdown",
   "metadata": {}
  },
  {
   "cell_type": "code",
   "execution_count": 27,
   "metadata": {},
   "outputs": [
    {
     "output_type": "execute_result",
     "data": {
      "text/plain": [
       "       Name  Age      Job\n",
       "0    Marwan   21       it\n",
       "1     Afnan   20      rnd\n",
       "5  Iskandar   23  islamic\n",
       "6     Affan   22       it"
      ],
      "text/html": "<div>\n<style scoped>\n    .dataframe tbody tr th:only-of-type {\n        vertical-align: middle;\n    }\n\n    .dataframe tbody tr th {\n        vertical-align: top;\n    }\n\n    .dataframe thead th {\n        text-align: right;\n    }\n</style>\n<table border=\"1\" class=\"dataframe\">\n  <thead>\n    <tr style=\"text-align: right;\">\n      <th></th>\n      <th>Name</th>\n      <th>Age</th>\n      <th>Job</th>\n    </tr>\n  </thead>\n  <tbody>\n    <tr>\n      <th>0</th>\n      <td>Marwan</td>\n      <td>21</td>\n      <td>it</td>\n    </tr>\n    <tr>\n      <th>1</th>\n      <td>Afnan</td>\n      <td>20</td>\n      <td>rnd</td>\n    </tr>\n    <tr>\n      <th>5</th>\n      <td>Iskandar</td>\n      <td>23</td>\n      <td>islamic</td>\n    </tr>\n    <tr>\n      <th>6</th>\n      <td>Affan</td>\n      <td>22</td>\n      <td>it</td>\n    </tr>\n  </tbody>\n</table>\n</div>"
     },
     "metadata": {},
     "execution_count": 27
    }
   ],
   "source": [
    "df1[df1.Name.str.contains('an')]"
   ]
  },
  {
   "cell_type": "code",
   "execution_count": 28,
   "metadata": {},
   "outputs": [
    {
     "output_type": "execute_result",
     "data": {
      "text/plain": [
       "       Name  Age      Job\n",
       "0    Marwan   21       it\n",
       "1     Afnan   20      rnd\n",
       "5  Iskandar   23  islamic\n",
       "6     Affan   22       it"
      ],
      "text/html": "<div>\n<style scoped>\n    .dataframe tbody tr th:only-of-type {\n        vertical-align: middle;\n    }\n\n    .dataframe tbody tr th {\n        vertical-align: top;\n    }\n\n    .dataframe thead th {\n        text-align: right;\n    }\n</style>\n<table border=\"1\" class=\"dataframe\">\n  <thead>\n    <tr style=\"text-align: right;\">\n      <th></th>\n      <th>Name</th>\n      <th>Age</th>\n      <th>Job</th>\n    </tr>\n  </thead>\n  <tbody>\n    <tr>\n      <th>0</th>\n      <td>Marwan</td>\n      <td>21</td>\n      <td>it</td>\n    </tr>\n    <tr>\n      <th>1</th>\n      <td>Afnan</td>\n      <td>20</td>\n      <td>rnd</td>\n    </tr>\n    <tr>\n      <th>5</th>\n      <td>Iskandar</td>\n      <td>23</td>\n      <td>islamic</td>\n    </tr>\n    <tr>\n      <th>6</th>\n      <td>Affan</td>\n      <td>22</td>\n      <td>it</td>\n    </tr>\n  </tbody>\n</table>\n</div>"
     },
     "metadata": {},
     "execution_count": 28
    }
   ],
   "source": [
    "df1[df1['Name'].str.contains('an')]"
   ]
  },
  {
   "cell_type": "code",
   "execution_count": 55,
   "metadata": {},
   "outputs": [
    {
     "output_type": "execute_result",
     "data": {
      "text/plain": [
       "1    rnd\n",
       "Name: Job, dtype: object"
      ]
     },
     "metadata": {},
     "execution_count": 55
    }
   ],
   "source": [
    "df1[df1.Name.str.contains('nan')]['Job']"
   ]
  },
  {
   "cell_type": "code",
   "execution_count": 56,
   "metadata": {},
   "outputs": [
    {
     "output_type": "execute_result",
     "data": {
      "text/plain": [
       "0    21\n",
       "Name: Age, dtype: int32"
      ]
     },
     "metadata": {},
     "execution_count": 56
    }
   ],
   "source": [
    "df1[df1.Name.str.contains('wan')]['Age']"
   ]
  },
  {
   "source": [
    "## Conditions"
   ],
   "cell_type": "markdown",
   "metadata": {}
  },
  {
   "cell_type": "code",
   "execution_count": 29,
   "metadata": {},
   "outputs": [
    {
     "output_type": "stream",
     "name": "stdout",
     "text": [
      "Name\nAge\nJob\n"
     ]
    }
   ],
   "source": [
    "for i in df1:\n",
    "    print(i)"
   ]
  },
  {
   "cell_type": "code",
   "execution_count": 30,
   "metadata": {},
   "outputs": [
    {
     "output_type": "stream",
     "name": "stdout",
     "text": [
      "(0, Name    Marwan\nAge         21\nJob         it\nName: 0, dtype: object)\n(1, Name    Afnan\nAge        20\nJob       rnd\nName: 1, dtype: object)\n(2, Name    Mukhlis\nAge          21\nJob          it\nName: 2, dtype: object)\n(3, Name        Anas\nAge           22\nJob     eduction\nName: 3, dtype: object)\n(4, Name        Khalid\nAge             20\nJob     libral art\nName: 4, dtype: object)\n(5, Name    Iskandar\nAge           23\nJob      islamic\nName: 5, dtype: object)\n(6, Name    Affan\nAge        22\nJob        it\nName: 6, dtype: object)\n(7, Name    Ali\nAge      21\nJob     rnd\nName: 7, dtype: object)\n"
     ]
    }
   ],
   "source": [
    "for idx in df1.iterrows():\n",
    "    print(idx)"
   ]
  },
  {
   "cell_type": "code",
   "execution_count": 31,
   "metadata": {},
   "outputs": [
    {
     "output_type": "stream",
     "name": "stdout",
     "text": [
      "0 Marwan 21\n1 Afnan 20\n2 Mukhlis 21\n3 Anas 22\n4 Khalid 20\n5 Iskandar 23\n6 Affan 22\n7 Ali 21\n"
     ]
    }
   ],
   "source": [
    "for idk, row in df1.iterrows():\n",
    "    print(idk, row.Name, row.Age)"
   ]
  },
  {
   "cell_type": "code",
   "execution_count": 33,
   "metadata": {},
   "outputs": [
    {
     "output_type": "execute_result",
     "data": {
      "text/plain": [
       "       Name  Age      Job\n",
       "5  Iskandar   23  islamic"
      ],
      "text/html": "<div>\n<style scoped>\n    .dataframe tbody tr th:only-of-type {\n        vertical-align: middle;\n    }\n\n    .dataframe tbody tr th {\n        vertical-align: top;\n    }\n\n    .dataframe thead th {\n        text-align: right;\n    }\n</style>\n<table border=\"1\" class=\"dataframe\">\n  <thead>\n    <tr style=\"text-align: right;\">\n      <th></th>\n      <th>Name</th>\n      <th>Age</th>\n      <th>Job</th>\n    </tr>\n  </thead>\n  <tbody>\n    <tr>\n      <th>5</th>\n      <td>Iskandar</td>\n      <td>23</td>\n      <td>islamic</td>\n    </tr>\n  </tbody>\n</table>\n</div>"
     },
     "metadata": {},
     "execution_count": 33
    }
   ],
   "source": [
    "df1[df1.Age > 22 ]"
   ]
  },
  {
   "cell_type": "code",
   "execution_count": 41,
   "metadata": {},
   "outputs": [
    {
     "output_type": "execute_result",
     "data": {
      "text/plain": [
       "       Name  Age      Job\n",
       "5  Iskandar   23  islamic"
      ],
      "text/html": "<div>\n<style scoped>\n    .dataframe tbody tr th:only-of-type {\n        vertical-align: middle;\n    }\n\n    .dataframe tbody tr th {\n        vertical-align: top;\n    }\n\n    .dataframe thead th {\n        text-align: right;\n    }\n</style>\n<table border=\"1\" class=\"dataframe\">\n  <thead>\n    <tr style=\"text-align: right;\">\n      <th></th>\n      <th>Name</th>\n      <th>Age</th>\n      <th>Job</th>\n    </tr>\n  </thead>\n  <tbody>\n    <tr>\n      <th>5</th>\n      <td>Iskandar</td>\n      <td>23</td>\n      <td>islamic</td>\n    </tr>\n  </tbody>\n</table>\n</div>"
     },
     "metadata": {},
     "execution_count": 41
    }
   ],
   "source": [
    "df1[df1['Age'] > 22]"
   ]
  },
  {
   "cell_type": "code",
   "execution_count": 43,
   "metadata": {},
   "outputs": [],
   "source": [
    "d= df1.loc[(df1.Age >= 22)]"
   ]
  },
  {
   "cell_type": "code",
   "execution_count": 48,
   "metadata": {},
   "outputs": [
    {
     "output_type": "execute_result",
     "data": {
      "text/plain": [
       "pandas.core.frame.DataFrame"
      ]
     },
     "metadata": {},
     "execution_count": 48
    }
   ],
   "source": [
    "type(d)"
   ]
  },
  {
   "cell_type": "code",
   "execution_count": 52,
   "metadata": {},
   "outputs": [
    {
     "output_type": "execute_result",
     "data": {
      "text/plain": [
       "0    21\n",
       "Name: Age, dtype: int32"
      ]
     },
     "metadata": {},
     "execution_count": 52
    }
   ],
   "source": []
  },
  {
   "cell_type": "code",
   "execution_count": 54,
   "metadata": {},
   "outputs": [
    {
     "output_type": "execute_result",
     "data": {
      "text/plain": [
       "1    rnd\n",
       "Name: Job, dtype: object"
      ]
     },
     "metadata": {},
     "execution_count": 54
    }
   ],
   "source": []
  },
  {
   "cell_type": "code",
   "execution_count": null,
   "metadata": {},
   "outputs": [],
   "source": []
  }
 ]
}