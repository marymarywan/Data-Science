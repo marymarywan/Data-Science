{
 "metadata": {
  "language_info": {
   "codemirror_mode": {
    "name": "ipython",
    "version": 3
   },
   "file_extension": ".py",
   "mimetype": "text/x-python",
   "name": "python",
   "nbconvert_exporter": "python",
   "pygments_lexer": "ipython3",
   "version": "3.7.6-final"
  },
  "orig_nbformat": 2,
  "kernelspec": {
   "name": "Python 3.7.6 64-bit ('base': conda)",
   "display_name": "Python 3.7.6 64-bit ('base': conda)",
   "metadata": {
    "interpreter": {
     "hash": "2a2f3a0f78b2ef6167917001a86b9a51d1b91b129ef2a497c77fcb6e5dcb80d5"
    }
   }
  }
 },
 "nbformat": 4,
 "nbformat_minor": 2,
 "cells": [
  {
   "source": [
    "### For testing only"
   ],
   "cell_type": "markdown",
   "metadata": {}
  },
  {
   "cell_type": "code",
   "execution_count": 3,
   "metadata": {},
   "outputs": [],
   "source": [
    "import pandas as pd\n",
    "import numpy as np\n",
    "import json"
   ]
  },
  {
   "source": [
    "### Datas Acquision"
   ],
   "cell_type": "markdown",
   "metadata": {}
  },
  {
   "cell_type": "code",
   "execution_count": 4,
   "metadata": {},
   "outputs": [],
   "source": [
    "list_of_name = [\"Marwan\", \"Afnan\", \"Mukhlis\", \"Anas\", \"Khalid\", \"Iskandar\", \"Affan\", \"Ali\"]"
   ]
  },
  {
   "cell_type": "code",
   "execution_count": 5,
   "metadata": {},
   "outputs": [],
   "source": [
    "list_of_age = [21, 20, 21, 22, 20, 23, 22, 21]"
   ]
  },
  {
   "cell_type": "code",
   "execution_count": 6,
   "metadata": {},
   "outputs": [],
   "source": [
    "list_of_job = ['it', 'rnd', 'it', 'eduction', 'libral art', 'islamic', 'it', 'rnd']"
   ]
  },
  {
   "cell_type": "code",
   "execution_count": 7,
   "metadata": {},
   "outputs": [],
   "source": [
    "in_list = list(zip(list_of_name, list_of_age, list_of_job))"
   ]
  },
  {
   "cell_type": "code",
   "execution_count": 8,
   "metadata": {},
   "outputs": [],
   "source": [
    "df = pd.DataFrame(in_list,  columns=['Name', 'Age', 'Job'])"
   ]
  },
  {
   "cell_type": "code",
   "execution_count": 9,
   "metadata": {},
   "outputs": [],
   "source": [
    "df.set_index(['Name'], inplace=True)"
   ]
  },
  {
   "cell_type": "code",
   "execution_count": 10,
   "metadata": {},
   "outputs": [
    {
     "output_type": "execute_result",
     "data": {
      "text/plain": [
       "         Age         Job\n",
       "Name                    \n",
       "Marwan    21          it\n",
       "Afnan     20         rnd\n",
       "Mukhlis   21          it\n",
       "Anas      22    eduction\n",
       "Khalid    20  libral art"
      ],
      "text/html": "<div>\n<style scoped>\n    .dataframe tbody tr th:only-of-type {\n        vertical-align: middle;\n    }\n\n    .dataframe tbody tr th {\n        vertical-align: top;\n    }\n\n    .dataframe thead th {\n        text-align: right;\n    }\n</style>\n<table border=\"1\" class=\"dataframe\">\n  <thead>\n    <tr style=\"text-align: right;\">\n      <th></th>\n      <th>Age</th>\n      <th>Job</th>\n    </tr>\n    <tr>\n      <th>Name</th>\n      <th></th>\n      <th></th>\n    </tr>\n  </thead>\n  <tbody>\n    <tr>\n      <th>Marwan</th>\n      <td>21</td>\n      <td>it</td>\n    </tr>\n    <tr>\n      <th>Afnan</th>\n      <td>20</td>\n      <td>rnd</td>\n    </tr>\n    <tr>\n      <th>Mukhlis</th>\n      <td>21</td>\n      <td>it</td>\n    </tr>\n    <tr>\n      <th>Anas</th>\n      <td>22</td>\n      <td>eduction</td>\n    </tr>\n    <tr>\n      <th>Khalid</th>\n      <td>20</td>\n      <td>libral art</td>\n    </tr>\n  </tbody>\n</table>\n</div>"
     },
     "metadata": {},
     "execution_count": 10
    }
   ],
   "source": [
    "df.head()"
   ]
  },
  {
   "cell_type": "code",
   "execution_count": 11,
   "metadata": {},
   "outputs": [],
   "source": [
    "s = df.loc['Marwan']"
   ]
  },
  {
   "cell_type": "code",
   "execution_count": 12,
   "metadata": {},
   "outputs": [
    {
     "output_type": "execute_result",
     "data": {
      "text/plain": [
       "Age    21\n",
       "Job    it\n",
       "Name: Marwan, dtype: object"
      ]
     },
     "metadata": {},
     "execution_count": 12
    }
   ],
   "source": [
    "pd.Series(s)"
   ]
  },
  {
   "cell_type": "code",
   "execution_count": 13,
   "metadata": {},
   "outputs": [],
   "source": [
    "im = 'Test2.csv'"
   ]
  },
  {
   "cell_type": "code",
   "execution_count": 66,
   "metadata": {},
   "outputs": [],
   "source": [
    "df1 = pd.read_csv(im, dtype={'Age':int})"
   ]
  },
  {
   "cell_type": "code",
   "execution_count": 67,
   "metadata": {},
   "outputs": [
    {
     "output_type": "execute_result",
     "data": {
      "text/plain": [
       "       Name  Age         Job\n",
       "0    Marwan   21          it\n",
       "1     Afnan   20         rnd\n",
       "2   Mukhlis   21          it\n",
       "3      Anas   22    eduction\n",
       "4    Khalid   20  libral art\n",
       "5  Iskandar   23     islamic\n",
       "6     Affan   22          it\n",
       "7       Ali   21         rnd"
      ],
      "text/html": "<div>\n<style scoped>\n    .dataframe tbody tr th:only-of-type {\n        vertical-align: middle;\n    }\n\n    .dataframe tbody tr th {\n        vertical-align: top;\n    }\n\n    .dataframe thead th {\n        text-align: right;\n    }\n</style>\n<table border=\"1\" class=\"dataframe\">\n  <thead>\n    <tr style=\"text-align: right;\">\n      <th></th>\n      <th>Name</th>\n      <th>Age</th>\n      <th>Job</th>\n    </tr>\n  </thead>\n  <tbody>\n    <tr>\n      <th>0</th>\n      <td>Marwan</td>\n      <td>21</td>\n      <td>it</td>\n    </tr>\n    <tr>\n      <th>1</th>\n      <td>Afnan</td>\n      <td>20</td>\n      <td>rnd</td>\n    </tr>\n    <tr>\n      <th>2</th>\n      <td>Mukhlis</td>\n      <td>21</td>\n      <td>it</td>\n    </tr>\n    <tr>\n      <th>3</th>\n      <td>Anas</td>\n      <td>22</td>\n      <td>eduction</td>\n    </tr>\n    <tr>\n      <th>4</th>\n      <td>Khalid</td>\n      <td>20</td>\n      <td>libral art</td>\n    </tr>\n    <tr>\n      <th>5</th>\n      <td>Iskandar</td>\n      <td>23</td>\n      <td>islamic</td>\n    </tr>\n    <tr>\n      <th>6</th>\n      <td>Affan</td>\n      <td>22</td>\n      <td>it</td>\n    </tr>\n    <tr>\n      <th>7</th>\n      <td>Ali</td>\n      <td>21</td>\n      <td>rnd</td>\n    </tr>\n  </tbody>\n</table>\n</div>"
     },
     "metadata": {},
     "execution_count": 67
    }
   ],
   "source": [
    "df1.sort_index()"
   ]
  },
  {
   "cell_type": "code",
   "execution_count": 71,
   "metadata": {},
   "outputs": [
    {
     "output_type": "execute_result",
     "data": {
      "text/plain": [
       "Name    object\n",
       "Age      int32\n",
       "Job     object\n",
       "dtype: object"
      ]
     },
     "metadata": {},
     "execution_count": 71
    }
   ],
   "source": [
    "df1.dtypes"
   ]
  },
  {
   "cell_type": "code",
   "execution_count": 72,
   "metadata": {},
   "outputs": [
    {
     "output_type": "execute_result",
     "data": {
      "text/plain": [
       "       Name  Age         Job\n",
       "2   Mukhlis   21          it\n",
       "4    Khalid   20  libral art\n",
       "0    Marwan   21          it\n",
       "3      Anas   22    eduction\n",
       "5  Iskandar   23     islamic"
      ],
      "text/html": "<div>\n<style scoped>\n    .dataframe tbody tr th:only-of-type {\n        vertical-align: middle;\n    }\n\n    .dataframe tbody tr th {\n        vertical-align: top;\n    }\n\n    .dataframe thead th {\n        text-align: right;\n    }\n</style>\n<table border=\"1\" class=\"dataframe\">\n  <thead>\n    <tr style=\"text-align: right;\">\n      <th></th>\n      <th>Name</th>\n      <th>Age</th>\n      <th>Job</th>\n    </tr>\n  </thead>\n  <tbody>\n    <tr>\n      <th>2</th>\n      <td>Mukhlis</td>\n      <td>21</td>\n      <td>it</td>\n    </tr>\n    <tr>\n      <th>4</th>\n      <td>Khalid</td>\n      <td>20</td>\n      <td>libral art</td>\n    </tr>\n    <tr>\n      <th>0</th>\n      <td>Marwan</td>\n      <td>21</td>\n      <td>it</td>\n    </tr>\n    <tr>\n      <th>3</th>\n      <td>Anas</td>\n      <td>22</td>\n      <td>eduction</td>\n    </tr>\n    <tr>\n      <th>5</th>\n      <td>Iskandar</td>\n      <td>23</td>\n      <td>islamic</td>\n    </tr>\n  </tbody>\n</table>\n</div>"
     },
     "metadata": {},
     "execution_count": 72
    }
   ],
   "source": [
    "df1.sample(5)"
   ]
  },
  {
   "cell_type": "code",
   "execution_count": 73,
   "metadata": {},
   "outputs": [
    {
     "output_type": "execute_result",
     "data": {
      "text/plain": [
       "21.25"
      ]
     },
     "metadata": {},
     "execution_count": 73
    }
   ],
   "source": [
    "df1.Age.mean()"
   ]
  },
  {
   "cell_type": "code",
   "execution_count": null,
   "metadata": {},
   "outputs": [],
   "source": []
  }
 ]
}